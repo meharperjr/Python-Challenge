{
 "cells": [
  {
   "cell_type": "code",
   "execution_count": 2,
   "metadata": {},
   "outputs": [
    {
     "name": "stdout",
     "output_type": "stream",
     "text": [
      "Financial Analysis\n",
      "----------------------------------------\n",
      "Total Months: 86\n",
      "Total Revenue: $38,382,578.00\n",
      "Average Revenue Change: $-2,315.12\n",
      "Greatest Increase in Revenue: Jan-2012 ($1,926,159.00)\n",
      "Greatest Decrease in Revenue: Aug-2013 ($-2,196,167.00)\n"
     ]
    }
   ],
   "source": [
    "import os\n",
    "import csv\n",
    "\n",
    "month_count = 0\n",
    "total_revenue = 0\n",
    "this_month_revenue = 0\n",
    "last_month_revenue = 0\n",
    "revenue_change = 0\n",
    "revenue_changes = []\n",
    "months = []\n",
    "\n",
    "\n",
    "# open csv file\n",
    "bank_csv = os.path.join(\"resources/budget-data.csv\")\n",
    "\n",
    "with open(bank_csv,'r', newline=\"\") as csvfile:\n",
    "    csvreader = csv.reader(csvfile, delimiter=\",\")\n",
    "\n",
    "    next(csvreader)\n",
    "\n",
    "  \n",
    "    for row in csvreader:\n",
    "        month_count = month_count + 1\n",
    "        months.append(row[0])\n",
    "        this_month_revenue = int(row[1])\n",
    "        total_revenue = total_revenue + this_month_revenue\n",
    "        if month_count > 1:\n",
    "            revenue_change = this_month_revenue - last_month_revenue\n",
    "            revenue_changes.append(revenue_change)\n",
    "        last_month_revenue = this_month_revenue\n",
    "\n",
    "\n",
    "# analyze the month by month results\n",
    "sum_rev_changes = sum(revenue_changes)\n",
    "average_change = sum_rev_changes / (month_count - 1)\n",
    "max_change = max(revenue_changes)\n",
    "min_change = min(revenue_changes)\n",
    "max_month_index = revenue_changes.index(max_change)\n",
    "min_month_index = revenue_changes.index(min_change)\n",
    "max_month = months[max_month_index]\n",
    "min_month = months[min_month_index]\n",
    "\n",
    "#Print to terminal\n",
    "\n",
    "print(\"Financial Analysis\")\n",
    "print(\"----------------------------------------\")\n",
    "print(f\"Total Months: {month_count}\")\n",
    "print(f\"Total Revenue: ${total_revenue:,.2f}\")\n",
    "print(f\"Average Revenue Change: ${average_change:,.2f}\")\n",
    "print(f\"Greatest Increase in Revenue: {max_month} (${max_change:,.2f})\")\n",
    "print(f\"Greatest Decrease in Revenue: {min_month} (${min_change:,.2f})\")\n",
    "\n",
    "\n",
    "file = os.path.join(\"C:\\\\Users\\\\mehar\\\\Documents\\\\Python\\\\Python-Challenge\\\\Pybank\\\\pybank_output.txt\")\n",
    "with open(file,'w') as pyb:\n",
    "    pyb.write(\"Financial Analysis\" + \"\\n\")\n",
    "    pyb.write(\"----------------------------------------\" + \"\\n\")\n",
    "    pyb.write(f\"Total Months: {month_count}\" + \"\\n\")\n",
    "    pyb.write(f\"Total Revenue: ${total_revenue:,.2f}\" + \"\\n\")\n",
    "    pyb.write(f\"Average Revenue Change: ${average_change:,.2f}\" + \"\\n\")\n",
    "    pyb.write(f\"Greatest Increase in Revenue: {max_month} (${max_change:,.2f})\" + \"\\n\")\n",
    "    pyb.write(f\"Greatest Decrease in Revenue: {min_month} (${min_change:,.2f})\" + \"\\n\")"
   ]
  }
 ],
 "metadata": {
  "kernelspec": {
   "display_name": "Python [conda env:.conda-PythonData] *",
   "language": "python",
   "name": "conda-env-.conda-PythonData-py"
  }
 },
 "nbformat": 4,
 "nbformat_minor": 2
}
