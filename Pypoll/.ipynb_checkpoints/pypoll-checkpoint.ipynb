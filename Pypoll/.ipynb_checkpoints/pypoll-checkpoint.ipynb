{
 "cells": [
  {
   "cell_type": "code",
   "execution_count": 3,
   "metadata": {},
   "outputs": [],
   "source": [
    "import os\n",
    "import csv\n",
    "\n",
    "candidate_percentages ={}\n",
    "winner_votes = 0\n",
    "winner = \"\"\n",
    "total_votes = 0\n",
    "candidate = \"\"\n",
    "candidate_votes = {}\n",
    "\n",
    "\n",
    "# open csv file\n",
    "election_csv = os.path.join(\"resources/election_data.csv\")"
   ]
  },
  {
   "cell_type": "code",
   "execution_count": 4,
   "metadata": {},
   "outputs": [],
   "source": [
    "with open(election_csv,'r', newline=\"\") as csvfile:\n",
    "    csvreader = csv.reader(csvfile, delimiter=\",\")\n",
    "\n",
    "    next(csvreader)\n",
    "\n",
    "    for row in csvreader:\n",
    "        total_votes = total_votes + 1\n",
    "        candidate = row[2]\n",
    "        if candidate in candidate_votes:\n",
    "            candidate_votes[candidate] = candidate_votes[candidate] + 1\n",
    "        else:\n",
    "            candidate_votes[candidate] = 1"
   ]
  },
  {
   "cell_type": "code",
   "execution_count": 5,
   "metadata": {},
   "outputs": [],
   "source": [
    "for person, vote_count in candidate_votes.items():\n",
    "    candidate_percentages[person] = '{0:.0%}'.format(vote_count / total_votes)\n",
    "    if vote_count > winner_votes:\n",
    "        winner_votes = vote_count\n",
    "        winner = person"
   ]
  },
  {
   "cell_type": "code",
   "execution_count": 6,
   "metadata": {
    "scrolled": true
   },
   "outputs": [
    {
     "name": "stdout",
     "output_type": "stream",
     "text": [
      "Election Results\n",
      "Total Votes: 3,521,001\n",
      "Khan: 63% (2,218,231)\n",
      "Correy: 20% (704,200)\n",
      "Li: 14% (492,940)\n",
      "O'Tooley: 3% (105,630)\n",
      "Winner: Khan\n"
     ]
    }
   ],
   "source": [
    "# print out results\n",
    "\n",
    "print(\"Election Results\")\n",
    "print(f\"Total Votes: {total_votes:,}\")\n",
    "for person, vote_count in candidate_votes.items():\n",
    "    print(f\"{person}: {candidate_percentages[person]} ({vote_count:,})\")\n",
    "print(f\"Winner: {winner}\")"
   ]
  },
  {
   "cell_type": "code",
   "execution_count": 7,
   "metadata": {},
   "outputs": [],
   "source": [
    "# save \n",
    "\n",
    "filepath = os.path.join(\"pypoll_output.txt\")\n",
    "with open(filepath,'w') as text:\n",
    " \n",
    "    text.write(f\"Total Votes: {total_votes}\" + \"\\n\")\n",
    "\n",
    "    for person, vote_count in candidate_votes.items():\n",
    "        text.write(f\"{person}: {candidate_percentages[person]} ({vote_count})\" + \"\\n\")\n",
    " \n",
    "    text.write(f\"Winner: {winner}\" + \"\\n\")"
   ]
  }
 ],
 "metadata": {
  "kernelspec": {
   "display_name": "Python [conda env:.conda-PythonData] *",
   "language": "python",
   "name": "conda-env-.conda-PythonData-py"
  },
  "language_info": {
   "codemirror_mode": {
    "name": "ipython",
    "version": 3
   },
   "file_extension": ".py",
   "mimetype": "text/x-python",
   "name": "python",
   "nbconvert_exporter": "python",
   "pygments_lexer": "ipython3",
   "version": "3.6.8"
  }
 },
 "nbformat": 4,
 "nbformat_minor": 2
}
